{
  "nbformat": 4,
  "nbformat_minor": 0,
  "metadata": {
    "colab": {
      "provenance": [],
      "authorship_tag": "ABX9TyOB2k8OvvdOK32FaS4MMLhl",
      "include_colab_link": true
    },
    "kernelspec": {
      "name": "python3",
      "display_name": "Python 3"
    },
    "language_info": {
      "name": "python"
    }
  },
  "cells": [
    {
      "cell_type": "markdown",
      "metadata": {
        "id": "view-in-github",
        "colab_type": "text"
      },
      "source": [
        "<a href=\"https://colab.research.google.com/github/avinash2966/calculator_app/blob/main/power_cable_.ipynb\" target=\"_parent\"><img src=\"https://colab.research.google.com/assets/colab-badge.svg\" alt=\"Open In Colab\"/></a>"
      ]
    },
    {
      "cell_type": "code",
      "source": [
        "import streamlit as st\n",
        "\n",
        "def calculate_full_load_current(power_kw, voltage):\n",
        "    return (power_kw * 1000) / (voltage * (3 ** 0.5))\n",
        "\n",
        "def calculate_starting_current(full_load_current):\n",
        "    return full_load_current * 7  # Assuming 7x starting current\n",
        "\n",
        "def calculate_derated_capacity(ampacity_per_cable, derating_factor, no_of_runs):\n",
        "    return ampacity_per_cable * derating_factor * no_of_runs\n",
        "\n",
        "def main():\n",
        "    st.title(\"Power Cable Size Calculator\")\n",
        "\n",
        "    st.header(\"Input Parameters\")\n",
        "    power_kw = st.number_input(\"Estimated Load (kW)\", min_value=0.0, value=200.0)\n",
        "    voltage = st.number_input(\"Rated Voltage (V)\", min_value=1.0, value=415.0)\n",
        "    ampacity_per_cable = st.number_input(\"Cable Ampacity (A)\", min_value=1.0, value=455.0)\n",
        "    no_of_runs = st.number_input(\"Number of Cable Runs\", min_value=1, value=7)\n",
        "    derating_factor = st.number_input(\"Derating Factor\", min_value=0.1, max_value=1.0, value=0.65)\n",
        "\n",
        "    if st.button(\"Calculate\"):\n",
        "        full_load_current = calculate_full_load_current(power_kw, voltage)\n",
        "        starting_current = calculate_starting_current(full_load_current)\n",
        "        derated_capacity = calculate_derated_capacity(ampacity_per_cable, derating_factor, no_of_runs)\n",
        "\n",
        "        st.subheader(\"Results\")\n",
        "        st.write(f\"**Full Load Current:** {full_load_current:.2f} A\")\n",
        "        st.write(f\"**Starting Current (approx 7x):** {starting_current:.2f} A\")\n",
        "        st.write(f\"**Total Derated Cable Capacity:** {derated_capacity:.2f} A\")\n",
        "\n",
        "        if derated_capacity >= full_load_current:\n",
        "            st.success(\"✅ Cable configuration is suitable.\")\n",
        "        else:\n",
        "            st.error(\"❌ Cable configuration is NOT sufficient. Increase runs or size.\")\n",
        "\n",
        "if __name__ == \"__main__\":\n",
        "    main()\n"
      ],
      "metadata": {
        "id": "sCBrr4Ey3uak"
      },
      "execution_count": null,
      "outputs": []
    }
  ]
}